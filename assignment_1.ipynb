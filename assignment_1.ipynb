{
 "cells": [
  {
   "cell_type": "code",
   "execution_count": 1,
   "metadata": {
    "collapsed": false
   },
   "outputs": [
    {
     "name": "stdout",
     "output_type": "stream",
     "text": [
      "The documents containing the bigram  ('American', 'Football') are:\n",
      " ['sw_326469.txt', 'sw_364262.txt']\n",
      "The documents containing the bigram  ('Northern', 'Hemisphere') are:\n",
      " ['sw_132498.txt']\n"
     ]
    }
   ],
   "source": [
    "import os\n",
    "import string\n",
    "from nltk import word_tokenize\n",
    "\n",
    "#Building the bigram inverted index\n",
    "\n",
    "def create_index(n):\n",
    "    index = {}\n",
    "    punct = list(string.punctuation)\n",
    "    punct+= ['``', \"''\"]\n",
    "    for root,dirs, files in os.walk('../Datasets/single-docs'):\n",
    "        for file in files[:n]:\n",
    "            f = open(os.path.join(root,file), 'r')\n",
    "            temp = word_tokenize(f.read())\n",
    "            words=[]\n",
    "            for word in temp:\n",
    "                if word not in punct:\n",
    "                    words.append(word)\n",
    "            for i in range(len(words)-1):\n",
    "                bigram = (words[i],words[i+1])\n",
    "                if not bigram in index: \n",
    "                    index[bigram] = []\n",
    "                if file not in index[bigram]:    \n",
    "                    index[bigram].append(file) \n",
    "            f.close()\n",
    "    return index\n",
    "\n",
    "#Querying the index to return which documents contain a given bigram\n",
    "\n",
    "def query_index(idx,bigo):\n",
    "    print('The documents containing the bigram ',bigo, 'are:\\n', idx[bigo])\n",
    "\n",
    "#Testing\n",
    "my_idx = create_index(5000) \n",
    "query_index(my_idx,('American', 'Football'))\n",
    "query_index(my_idx,('Northern', 'Hemisphere'))\n",
    "\n",
    "\n"
   ]
  }
 ],
 "metadata": {
  "anaconda-cloud": {},
  "kernelspec": {
   "display_name": "Python [default]",
   "language": "python",
   "name": "python3"
  },
  "language_info": {
   "codemirror_mode": {
    "name": "ipython",
    "version": 3
   },
   "file_extension": ".py",
   "mimetype": "text/x-python",
   "name": "python",
   "nbconvert_exporter": "python",
   "pygments_lexer": "ipython3",
   "version": "3.5.2"
  }
 },
 "nbformat": 4,
 "nbformat_minor": 2
}
